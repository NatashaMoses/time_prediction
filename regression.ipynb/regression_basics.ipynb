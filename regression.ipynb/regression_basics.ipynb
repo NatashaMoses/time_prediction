{
 "cells": [
  {
   "cell_type": "markdown",
   "metadata": {},
   "source": [
    "##### TYPES OF REGRESSION\n",
    "Linear Regression  \n",
    "Polynomial Regression  \n",
    "Stepwise Regression  \n",
    "Decision Tree Regression  \n",
    "Random Forest Regression  \n",
    "Support Vector Regression  \n",
    "Ridge Regression  \n",
    "Lasso Regression  \n",
    "ElasticNet Regression  \n",
    "Bayesian Linear Regression  "
   ]
  }
 ],
 "metadata": {
  "language_info": {
   "name": "python"
  }
 },
 "nbformat": 4,
 "nbformat_minor": 2
}
