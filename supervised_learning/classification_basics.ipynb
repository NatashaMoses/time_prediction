{
 "cells": [
  {
   "cell_type": "markdown",
   "metadata": {},
   "source": [
    "##### CLASSIFICATION STEPS  \n",
    "1. Data Preprocessing  \n",
    "\n",
    "2. Feature Selection  \n",
    "This is identifying the relevant features in the dataset.  \n",
    "+ Correlation Analysis  \n",
    "Like removing highly correlated features.  \n",
    "+ Information Gain  \n",
    "Select features with high information gain.  \n",
    "Like removing name and address.  \n",
    "+ Principal Component Analysis.  \n",
    "Technique that reduces dimensionality of the data by removing unimportant features.  \n",
    "\n",
    "3. Model Selection  \n",
    "\n",
    "4. Model Training\n",
    "\n",
    "5. Model Evaluation"
   ]
  },
  {
   "cell_type": "markdown",
   "metadata": {},
   "source": [
    "##### CLASSIFICATION MODELS\n",
    "\n",
    "Decision Trees  \n",
    "Bayesian Classifiers  \n",
    "Neural Networks  \n",
    "K-Nearest Neighbour  \n",
    "Support Vector Machines  \n",
    "Linear Regression  \n",
    "Logistic Regression  "
   ]
  }
 ],
 "metadata": {
  "kernelspec": {
   "display_name": ".venv",
   "language": "python",
   "name": "python3"
  },
  "language_info": {
   "name": "python",
   "version": "3.12.3"
  }
 },
 "nbformat": 4,
 "nbformat_minor": 2
}
