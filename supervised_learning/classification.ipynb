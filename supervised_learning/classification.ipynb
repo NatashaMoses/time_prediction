{
 "cells": [
  {
   "cell_type": "markdown",
   "metadata": {},
   "source": [
    "TYPES OF CLASSIFICATION\n",
    "+ Binary  \n",
    "+ Multiclass"
   ]
  },
  {
   "cell_type": "markdown",
   "metadata": {},
   "source": [
    "##### ACCURACY\n",
    "No of correct predictions/Total no of inputs   \n",
    "`TP+TN / TP+TN+FP+FN`  "
   ]
  },
  {
   "cell_type": "markdown",
   "metadata": {},
   "source": [
    "##### CONFUSION MATRIX\n",
    "\n",
    "|            |Predicted T|Predicted F|\n",
    "|------------|-----------|-----------|\n",
    "|**Actual T**|TP         |FN         |\n",
    "|**Actual F**|FP         |TN         |\n",
    "\n",
    "\n",
    "\n",
    "+ Accuracy  \n",
    "`TP+TN / TP+TN+FP+FN`  \n",
    "\n",
    "+ Precision  \n",
    "`TP / TP+FP`  \n",
    "TP divide by total no of predicted positives.  \n",
    "Of predicted +ve what %age is truly +ve.  \n",
    "Used to minimize **FP**  \n",
    "Eg classify non spam as spam.  \n",
    "\n",
    "+ Recall/TPR/Sensitivity    \n",
    "`TP / TP+FN`  \n",
    "TP divide by the real/accurate positives.  \n",
    "How it correctly identifies positive cases.  \n",
    "Used to minimize **FN**  \n",
    "Eg medical, must get all positives even if it will have FP as well.  \n",
    "\n",
    "+ Specificity/TNR  \n",
    "`TN / TN+FP`  \n",
    "TN divide by the real/accurate negatives.  \n",
    "How it correctly identifies negative cases.  \n",
    "\n",
    "+ FPR  \n",
    "`FP / FP+TN`  \n",
    "FP divide by real/accurate negatives.  \n",
    "`1 - Specificity/TNR`  \n",
    "\n",
    "+ F1-Score  \n",
    "`2*P*R / P+R`  \n",
    "Harmonic mean of precison and recall.  \n"
   ]
  },
  {
   "cell_type": "code",
   "execution_count": 6,
   "metadata": {},
   "outputs": [
    {
     "data": {
      "image/png": "[encoded data removed]",
      "text/plain": [
       "<Figure size 640x480 with 2 Axes>"
      ]
     },
     "metadata": {},
     "output_type": "display_data"
    }
   ],
   "source": [
    "import numpy as np\n",
    "from sklearn.metrics import confusion_matrix, ConfusionMatrixDisplay, classification_report\n",
    "import matplotlib.pyplot as plt\n",
    "\n",
    "# Actual labels\n",
    "y_true = ['Cat'] * 10 + ['Dog'] * 12 + ['Horse'] * 10\n",
    "# Predicted labels \n",
    "y_pred = ['Cat'] * 8 + ['Dog'] + ['Horse'] + ['Cat'] * 2 + ['Dog'] * 10 + ['Horse'] * 8 + ['Dog'] * 2\n",
    "# Classes\n",
    "classes = ['Cat', 'Dog', 'Horse']\n",
    "\n",
    "# Generate the confusion matrix\n",
    "cm = confusion_matrix(y_true, y_pred, labels=classes)\n",
    "disp = ConfusionMatrixDisplay(confusion_matrix=cm, display_labels=classes)\n",
    "disp.plot(cmap=plt.cm.Blues)\n",
    "plt.title('Confusion Matrix', fontsize=15, pad=20)\n",
    "plt.xlabel('Prediction', fontsize=11)\n",
    "plt.ylabel('Actual', fontsize=11)\n",
    "#Customizations\n",
    "plt.gca().xaxis.set_label_position('top')\n",
    "plt.gca().xaxis.tick_top()\n",
    "plt.gca().figure.subplots_adjust(bottom=0.2)\n",
    "plt.gca().figure.text(0.5, 0.05, 'Prediction', ha='center', fontsize=13)\n",
    "\n",
    "plt.show()\n"
   ]
  },
  {
   "cell_type": "code",
   "execution_count": 7,
   "metadata": {},
   "outputs": [
    {
     "name": "stdout",
     "output_type": "stream",
     "text": [
      "              precision    recall  f1-score   support\n",
      "\n",
      "         Cat       0.80      0.80      0.80        10\n",
      "         Dog       0.77      0.83      0.80        12\n",
      "       Horse       0.89      0.80      0.84        10\n",
      "\n",
      "    accuracy                           0.81        32\n",
      "   macro avg       0.82      0.81      0.81        32\n",
      "weighted avg       0.82      0.81      0.81        32\n",
      "\n"
     ]
    }
   ],
   "source": [
    "# Print classification report\n",
    "print(classification_report(y_true, y_pred, target_names=classes))"
   ]
  },
  {
   "cell_type": "markdown",
   "metadata": {},
   "source": [
    "##### AUC-ROC CURVE\n",
    "Area Under the Receiver Operating Characteristic curve.  \n",
    "\n",
    "**ROC (RECEIVER OPERATING STATISTIC)**  \n",
    "This is a graph of TPR(RECALL) vs FPR.  \n",
    "`TPR = TP / TP+FN`  \n",
    "`FPR = FP / TN+FP`  \n",
    "\n",
    "**AUC (AREA UNDER CURVE)**  \n",
    "This is the arrea under the ROC curve.  \n",
    "Lies between 0 and 1.  \n",
    "\n",
    "**Sensitivity/recall/tpr vs Specificity/tnr**  \n",
    "Inveresely proportional.  \n",
    "If one inc the other dec.  \n",
    "Low threshold -> High sensitivity/ more tp.  \n",
    "High threshold -> High soecificity/ more tn/ few fp.  \n",
    "\n",
    "**fpr vs tpr/recall/sensitivity**  \n",
    "Directly proportional.  \n",
    "Inc tpr -> inc fpr  \n"
   ]
  },
  {
   "cell_type": "code",
   "execution_count": 8,
   "metadata": {},
   "outputs": [
    {
     "name": "stdout",
     "output_type": "stream",
     "text": [
      "Auc: 0.778\n"
     ]
    }
   ],
   "source": [
    "import numpy as np\n",
    "from sklearn .metrics import roc_auc_score\n",
    "\n",
    "y_true = [1, 1, 0, 0, 1, 0]\n",
    "y_pred = [0.95, 0.90, 0.85, 0.81, 0.78, 0.70]\n",
    "auc = np.round(roc_auc_score(y_true, y_pred), 3)\n",
    "print(\"Auc: {}\".format(auc))\n"
   ]
  },
  {
   "cell_type": "markdown",
   "metadata": {},
   "source": [
    "##### CROSS-VALIDATION  \n",
    "This is a technique of dividing the available data into multiple subsets or folds.   \n",
    "One of the folds is used as test set and the other as training set.  \n",
    "This is done severally each time using different folds as test set.  \n",
    "The results of each process from test set are averaged.  \n",
    "It helps ensure that the model generalizes well to unseen data.  \n",
    "Thus prevents **overfitting**.  "
   ]
  },
  {
   "cell_type": "markdown",
   "metadata": {},
   "source": [
    "##### HOLDOUT VALIDATION  \n",
    "Separate the data into two sets, Training and Test Sets.  \n",
    "The training set is usally larger than the test set.  "
   ]
  },
  {
   "cell_type": "markdown",
   "metadata": {},
   "source": [
    "##### STRATIFIED K-FOLD CROSS-VALIDATION\n",
    "Preferred compared to random sapmling.  \n",
    "If population has 700 boys and 300 girls;  \n",
    "In stratified sampling, data is splitted ensuring the proportion of boys is 70% and of girls is 30%.  \n"
   ]
  },
  {
   "cell_type": "code",
   "execution_count": 11,
   "metadata": {},
   "outputs": [
    {
     "name": "stdout",
     "output_type": "stream",
     "text": [
      "List of possible accuracy: [0.9298245614035088, 0.9649122807017544, 0.9824561403508771, 1.0, 0.9649122807017544, 0.9649122807017544, 0.9824561403508771, 0.9473684210526315, 0.9473684210526315, 0.9821428571428571]\n",
      "\n",
      "Maximum Accuracy: 100.0 %\n",
      "\n",
      "Minimum Accuracy: 92.98245614035088 %\n",
      "\n",
      "Overall Accuracy: 96.66353383458647 %\n",
      "\n",
      "Standard Deviation: 0.02097789213195869\n"
     ]
    }
   ],
   "source": [
    "from statistics import mean, stdev\n",
    "from sklearn import preprocessing\n",
    "from sklearn.model_selection import StratifiedKFold\n",
    "from sklearn import linear_model\n",
    "from sklearn import datasets\n",
    "\n",
    "cancer = datasets.load_breast_cancer()\n",
    "\n",
    "x = cancer.data\t\t\t\t\t\t \n",
    "y = cancer.target\t\t\t\t\t \n",
    "\n",
    "# Feature Scaling for input features.\n",
    "scaler = preprocessing.MinMaxScaler()\n",
    "x_scaled = scaler.fit_transform(x)\n",
    "\n",
    "# Create model\n",
    "lr = linear_model.LogisticRegression()\n",
    "\n",
    "# Create StratifiedKFold object\n",
    "# Splits data to 10 folds\n",
    "# Shuffles data before splitting to ensure folds are randomized\n",
    "skf = StratifiedKFold(n_splits=10, shuffle=True, random_state=1)\n",
    "\n",
    "# A list to store the accuracy for each fold.\n",
    "lst_accu_stratified = []\n",
    "\n",
    "# train_index is the training data for a specific fold\n",
    "for train_index, test_index in skf.split(x, y): \n",
    "\tx_train_fold, x_test_fold = x_scaled[train_index], x_scaled[test_index]\n",
    "\ty_train_fold, y_test_fold = y[train_index], y[test_index]\n",
    "\tlr.fit(x_train_fold, y_train_fold)\n",
    "\tlst_accu_stratified.append(lr.score(x_test_fold, y_test_fold))\n",
    "\n",
    "# Print the output.\n",
    "print('List of possible accuracy:', lst_accu_stratified)\n",
    "print('\\nMaximum Accuracy:',\n",
    "\tmax(lst_accu_stratified)*100, '%')\n",
    "print('\\nMinimum Accuracy:',\n",
    "\tmin(lst_accu_stratified)*100, '%')\n",
    "print('\\nOverall Accuracy:',\n",
    "\tmean(lst_accu_stratified)*100, '%')\n",
    "print('\\nStandard Deviation:',\n",
    "\tstdev(lst_accu_stratified))\n"
   ]
  }
 ],
 "metadata": {
  "kernelspec": {
   "display_name": ".venv",
   "language": "python",
   "name": "python3"
  },
  "language_info": {
   "codemirror_mode": {
    "name": "ipython",
    "version": 3
   },
   "file_extension": ".py",
   "mimetype": "text/x-python",
   "name": "python",
   "nbconvert_exporter": "python",
   "pygments_lexer": "ipython3",
   "version": "3.12.3"
  }
 },
 "nbformat": 4,
 "nbformat_minor": 2
}
