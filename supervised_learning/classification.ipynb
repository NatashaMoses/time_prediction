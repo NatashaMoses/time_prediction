{
 "cells": [
  {
   "cell_type": "markdown",
   "metadata": {},
   "source": [
    "TYPES OF CLASSIFICATION\n",
    "+ Binary  \n",
    "+ Multiclass"
   ]
  },
  {
   "cell_type": "markdown",
   "metadata": {},
   "source": [
    "##### ACCURACY\n",
    "Accuracy= `No of correct predictions/Total no of inputs`   \n"
   ]
  },
  {
   "cell_type": "markdown",
   "metadata": {},
   "source": [
    "##### CONFUSION MATRIX\n",
    "+ Accuracy  \n",
    "`TP+TN / TP+TN+FP+FN`  \n",
    "\n",
    "+ Precision  \n",
    "`TP / TP+FP`  \n",
    "TP divide by total no of positives.  \n",
    "How accurate +ve predictions are.  \n",
    "Used to minimize **FP**  \n",
    "Eg classify non spam as spam.  \n",
    "\n",
    "+ Recall  \n",
    "`TP / TP+FN`  \n",
    "TP divide by the real/accurate positives.  \n",
    "How it correctly identifies positive cases.  \n",
    "Used to minimize **FN**  \n",
    "Eg medical, must get all positives even if it will have FP as well.  \n",
    "\n",
    "+ F1-Score  \n",
    "`2*P*R / P+R`  \n",
    "Harmonic mean of precison and recall.  \n",
    "\n",
    "+ Specificity  \n",
    "`TN / TN+FP`  \n",
    "TN divide by the real/accirate negatives.  \n",
    "How it correctly identifies negative cases.  \n",
    "\n"
   ]
  }
 ],
 "metadata": {
  "language_info": {
   "name": "python"
  }
 },
 "nbformat": 4,
 "nbformat_minor": 2
}
