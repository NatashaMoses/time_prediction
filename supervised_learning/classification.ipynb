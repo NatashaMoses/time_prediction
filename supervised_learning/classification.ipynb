{
 "cells": [
  {
   "cell_type": "markdown",
   "metadata": {},
   "source": [
    "TYPES OF CLASSIFICATION\n",
    "+ Binary  \n",
    "+ Multiclass"
   ]
  },
  {
   "cell_type": "markdown",
   "metadata": {},
   "source": [
    "##### ACCURACY\n",
    "Accuracy= `No of correct predictions/Total no of inputs`   \n"
   ]
  },
  {
   "cell_type": "markdown",
   "metadata": {},
   "source": [
    "##### CONFUSION MATRIX\n",
    "+ Accuracy  \n",
    "`TP+TN / TP+TN+FP+FN`  \n",
    "+ Precision  \n",
    "`TP / TP+FP`  \n",
    "TP divide by total no of positives.  \n",
    "How accurate +ve predictions are.  \n",
    "+ Recall  \n",
    "`TP / TP+FN`  \n",
    "TP divide by the real/accurate positives.  \n",
    "How accurate to get +ve out of the real +ves.  "
   ]
  }
 ],
 "metadata": {
  "language_info": {
   "name": "python"
  }
 },
 "nbformat": 4,
 "nbformat_minor": 2
}
