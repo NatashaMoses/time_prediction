{
 "cells": [
  {
   "cell_type": "code",
   "execution_count": 1,
   "metadata": {},
   "outputs": [],
   "source": [
    "# Data Preprocessing\n",
    "\n",
    "# 1. Import the libraries\n",
    "\n",
    "import pandas as pd\n",
    "import numpy as np\n",
    "import seaborn as sns\n",
    "import matplotlib.pyplot as plt\n",
    "from sklearn.preprocessing import MinMaxScaler"
   ]
  },
  {
   "cell_type": "code",
   "execution_count": 2,
   "metadata": {},
   "outputs": [
    {
     "name": "stdout",
     "output_type": "stream",
     "text": [
      "   Avg. Area Income  Avg. Area House Age  Avg. Area Number of Rooms  \\\n",
      "0      79545.458574             5.682861                   7.009188   \n",
      "1      79248.642455             6.002900                   6.730821   \n",
      "2      61287.067179             5.865890                   8.512727   \n",
      "3      63345.240046             7.188236                   5.586729   \n",
      "4      59982.197226             5.040555                   7.839388   \n",
      "\n",
      "   Avg. Area Number of Bedrooms  Area Population         Price  \\\n",
      "0                          4.09     23086.800503  1.059034e+06   \n",
      "1                          3.09     40173.072174  1.505891e+06   \n",
      "2                          5.13     36882.159400  1.058988e+06   \n",
      "3                          3.26     34310.242831  1.260617e+06   \n",
      "4                          4.23     26354.109472  6.309435e+05   \n",
      "\n",
      "                                             Address  \n",
      "0  208 Michael Ferry Apt. 674\\nLaurabury, NE 3701...  \n",
      "1  188 Johnson Views Suite 079\\nLake Kathleen, CA...  \n",
      "2  9127 Elizabeth Stravenue\\nDanieltown, WI 06482...  \n",
      "3                          USS Barnett\\nFPO AP 44820  \n",
      "4                         USNS Raymond\\nFPO AE 09386  \n"
     ]
    }
   ],
   "source": [
    "# 2. Load the dataset\n",
    "df = pd.read_csv(\"ago/USA_Housing.csv\")\n",
    "print(df.head())\n"
   ]
  }
 ],
 "metadata": {
  "kernelspec": {
   "display_name": "Python 3",
   "language": "python",
   "name": "python3"
  },
  "language_info": {
   "codemirror_mode": {
    "name": "ipython",
    "version": 3
   },
   "file_extension": ".py",
   "mimetype": "text/x-python",
   "name": "python",
   "nbconvert_exporter": "python",
   "pygments_lexer": "ipython3",
   "version": "3.12.3"
  }
 },
 "nbformat": 4,
 "nbformat_minor": 2
}
